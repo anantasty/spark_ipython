{
 "cells": [
  {
   "cell_type": "code",
   "execution_count": 1,
   "metadata": {
    "collapsed": false
   },
   "outputs": [
    {
     "data": {
      "text/plain": [
       "DataFrame[]"
      ]
     },
     "execution_count": 1,
     "metadata": {},
     "output_type": "execute_result"
    }
   ],
   "source": [
    "sqlContext.sql(\"CREATE TEMPORARY TABLE students_table USING com.stratio.datasource.mongodb OPTIONS (host 'mongo:27017', database 'highschool', collection 'students')\")"
   ]
  },
  {
   "cell_type": "code",
   "execution_count": 4,
   "metadata": {
    "collapsed": false
   },
   "outputs": [],
   "source": [
    "from pymongo import MongoClient\n",
    "client = MongoClient('mongo', 27017)\n",
    "db = client.highschool"
   ]
  },
  {
   "cell_type": "code",
   "execution_count": 14,
   "metadata": {
    "collapsed": false
   },
   "outputs": [
    {
     "data": {
      "text/plain": [
       "Collection(Database(MongoClient(host=['mongo:27017'], document_class=dict, tz_aware=False, connect=True), u'highschool'), u'students')"
      ]
     },
     "execution_count": 14,
     "metadata": {},
     "output_type": "execute_result"
    }
   ],
   "source": [
    "db.create_collection('students')"
   ]
  },
  {
   "cell_type": "code",
   "execution_count": 16,
   "metadata": {
    "collapsed": false
   },
   "outputs": [],
   "source": [
    "from csv import DictReader\n",
    "rows = []\n",
    "with open('student-por.csv') as stu:\n",
    "    dr = DictReader(stu,delimiter=';')\n",
    "    for row in dr:\n",
    "        rows.append(row)"
   ]
  },
  {
   "cell_type": "code",
   "execution_count": 17,
   "metadata": {
    "collapsed": false
   },
   "outputs": [
    {
     "data": {
      "text/plain": [
       "{'Dalc': '1',\n",
       " 'Fedu': '4',\n",
       " 'Fjob': 'teacher',\n",
       " 'G1': '0',\n",
       " 'G2': '11',\n",
       " 'G3': '11',\n",
       " 'Medu': '4',\n",
       " 'Mjob': 'at_home',\n",
       " 'Pstatus': 'A',\n",
       " 'Walc': '1',\n",
       " 'absences': '4',\n",
       " 'activities': 'no',\n",
       " 'address': 'U',\n",
       " 'age': '18',\n",
       " 'failures': '0',\n",
       " 'famrel': '4',\n",
       " 'famsize': 'GT3',\n",
       " 'famsup': 'no',\n",
       " 'freetime': '3',\n",
       " 'goout': '4',\n",
       " 'guardian': 'mother',\n",
       " 'health': '3',\n",
       " 'higher': 'yes',\n",
       " 'internet': 'no',\n",
       " 'nursery': 'yes',\n",
       " 'paid': 'no',\n",
       " 'reason': 'course',\n",
       " 'romantic': 'no',\n",
       " 'school': 'GP',\n",
       " 'schoolsup': 'yes',\n",
       " 'sex': 'F',\n",
       " 'studytime': '2',\n",
       " 'traveltime': '2'}"
      ]
     },
     "execution_count": 17,
     "metadata": {},
     "output_type": "execute_result"
    }
   ],
   "source": [
    "rows[0]"
   ]
  },
  {
   "cell_type": "code",
   "execution_count": 18,
   "metadata": {
    "collapsed": true
   },
   "outputs": [],
   "source": [
    "coll = db.students"
   ]
  },
  {
   "cell_type": "code",
   "execution_count": 19,
   "metadata": {
    "collapsed": false
   },
   "outputs": [
    {
     "data": {
      "text/plain": [
       "<pymongo.results.InsertManyResult at 0x7f84340fce10>"
      ]
     },
     "execution_count": 19,
     "metadata": {},
     "output_type": "execute_result"
    }
   ],
   "source": [
    "coll.insert_many(rows)"
   ]
  },
  {
   "cell_type": "code",
   "execution_count": 20,
   "metadata": {
    "collapsed": false
   },
   "outputs": [
    {
     "data": {
      "text/plain": [
       "{u'Dalc': u'1',\n",
       " u'Fedu': u'4',\n",
       " u'Fjob': u'teacher',\n",
       " u'G1': u'0',\n",
       " u'G2': u'11',\n",
       " u'G3': u'11',\n",
       " u'Medu': u'4',\n",
       " u'Mjob': u'at_home',\n",
       " u'Pstatus': u'A',\n",
       " u'Walc': u'1',\n",
       " u'_id': ObjectId('574e5fd1f8374e03e66d4f43'),\n",
       " u'absences': u'4',\n",
       " u'activities': u'no',\n",
       " u'address': u'U',\n",
       " u'age': u'18',\n",
       " u'failures': u'0',\n",
       " u'famrel': u'4',\n",
       " u'famsize': u'GT3',\n",
       " u'famsup': u'no',\n",
       " u'freetime': u'3',\n",
       " u'goout': u'4',\n",
       " u'guardian': u'mother',\n",
       " u'health': u'3',\n",
       " u'higher': u'yes',\n",
       " u'internet': u'no',\n",
       " u'nursery': u'yes',\n",
       " u'paid': u'no',\n",
       " u'reason': u'course',\n",
       " u'romantic': u'no',\n",
       " u'school': u'GP',\n",
       " u'schoolsup': u'yes',\n",
       " u'sex': u'F',\n",
       " u'studytime': u'2',\n",
       " u'traveltime': u'2'}"
      ]
     },
     "execution_count": 20,
     "metadata": {},
     "output_type": "execute_result"
    }
   ],
   "source": [
    "coll.find_one({'sex':'F'})"
   ]
  },
  {
   "cell_type": "code",
   "execution_count": null,
   "metadata": {
    "collapsed": true
   },
   "outputs": [],
   "source": []
  }
 ],
 "metadata": {
  "kernelspec": {
   "display_name": "Python 2",
   "language": "python",
   "name": "python2"
  },
  "language_info": {
   "codemirror_mode": {
    "name": "ipython",
    "version": 2
   },
   "file_extension": ".py",
   "mimetype": "text/x-python",
   "name": "python",
   "nbconvert_exporter": "python",
   "pygments_lexer": "ipython2",
   "version": "2.7.6"
  }
 },
 "nbformat": 4,
 "nbformat_minor": 0
}
